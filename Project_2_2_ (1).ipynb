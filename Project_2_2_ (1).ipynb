{
  "nbformat": 4,
  "nbformat_minor": 0,
  "metadata": {
    "colab": {
      "provenance": []
    },
    "kernelspec": {
      "name": "python3",
      "display_name": "Python 3"
    },
    "language_info": {
      "name": "python"
    }
  },
  "cells": [
    {
      "cell_type": "code",
      "source": [
        "import pandas as pd\n",
        "\n",
        "def compute_statistics(file_path):\n",
        "    # Load the CSV data into a Pandas DataFrame\n",
        "    df = pd.read_csv(\"/content/insurance.csv\")\n",
        "\n",
        "    # Compute statistics\n",
        "    mean_values = df.mean()\n",
        "    median_values = df.median()\n",
        "    std_values = df.std()\n",
        "\n",
        "    return mean_values, median_values, std_values\n",
        "\n",
        "file_path = 'your_input_file.csv'  # Replace with the path to your CSV file\n",
        "mean, median, std = compute_statistics(file_path)\n",
        "\n",
        "print(\"Mean values:\")\n",
        "print(mean)\n",
        "\n",
        "print(\"\\nMedian values:\")\n",
        "print(median)\n",
        "\n",
        "print(\"\\nStandard deviation values:\")\n",
        "print(std)"
      ],
      "metadata": {
        "colab": {
          "base_uri": "https://localhost:8080/"
        },
        "id": "h1SkUauef2B9",
        "outputId": "b2764b19-096a-4a20-bde6-dcb0562cdbdf"
      },
      "execution_count": 2,
      "outputs": [
        {
          "output_type": "stream",
          "name": "stdout",
          "text": [
            "Mean values:\n",
            "age            39.207025\n",
            "bmi            30.663397\n",
            "children        1.094918\n",
            "charges     13270.422265\n",
            "dtype: float64\n",
            "\n",
            "Median values:\n",
            "age           39.000\n",
            "bmi           30.400\n",
            "children       1.000\n",
            "charges     9382.033\n",
            "dtype: float64\n",
            "\n",
            "Standard deviation values:\n",
            "age            14.049960\n",
            "bmi             6.098187\n",
            "children        1.205493\n",
            "charges     12110.011237\n",
            "dtype: float64\n"
          ]
        },
        {
          "output_type": "stream",
          "name": "stderr",
          "text": [
            "<ipython-input-2-eb245b3ca1c0>:8: FutureWarning: The default value of numeric_only in DataFrame.mean is deprecated. In a future version, it will default to False. In addition, specifying 'numeric_only=None' is deprecated. Select only valid columns or specify the value of numeric_only to silence this warning.\n",
            "  mean_values = df.mean()\n",
            "<ipython-input-2-eb245b3ca1c0>:9: FutureWarning: The default value of numeric_only in DataFrame.median is deprecated. In a future version, it will default to False. In addition, specifying 'numeric_only=None' is deprecated. Select only valid columns or specify the value of numeric_only to silence this warning.\n",
            "  median_values = df.median()\n",
            "<ipython-input-2-eb245b3ca1c0>:10: FutureWarning: The default value of numeric_only in DataFrame.std is deprecated. In a future version, it will default to False. In addition, specifying 'numeric_only=None' is deprecated. Select only valid columns or specify the value of numeric_only to silence this warning.\n",
            "  std_values = df.std()\n"
          ]
        }
      ]
    }
  ]
}